{
  "cells": [
    {
      "cell_type": "markdown",
      "metadata": {
        "id": "view-in-github",
        "colab_type": "text"
      },
      "source": [
        "<a href=\"https://colab.research.google.com/github/aidanamergembayeva/AutomatedAssessmentSystemWithAI/blob/main/model2.ipynb\" target=\"_parent\"><img src=\"https://colab.research.google.com/assets/colab-badge.svg\" alt=\"Open In Colab\"/></a>"
      ]
    },
    {
      "cell_type": "code",
      "execution_count": 16,
      "id": "9b10840f-1919-4200-82d4-b73708e4c688",
      "metadata": {
        "id": "9b10840f-1919-4200-82d4-b73708e4c688"
      },
      "outputs": [],
      "source": [
        "import os\n",
        "import pandas as pd\n",
        "import numpy as np\n",
        "from sklearn.model_selection import train_test_split\n",
        "from sklearn.metrics import mean_squared_error, accuracy_score\n",
        "from transformers import RobertaTokenizer, RobertaForSequenceClassification\n",
        "from transformers import Trainer, TrainingArguments\n",
        "import torch\n",
        "from torch.utils.data import Dataset, DataLoader\n",
        "import logging\n",
        "import sys"
      ]
    },
    {
      "cell_type": "code",
      "execution_count": 17,
      "id": "342e8a91-8576-40c0-9f66-b563ec8a1b93",
      "metadata": {
        "id": "342e8a91-8576-40c0-9f66-b563ec8a1b93"
      },
      "outputs": [],
      "source": [
        "def load_data(file_path):\n",
        "    return pd.read_csv(file_path, sep='\\t', encoding='ISO-8859-1')\n",
        "# /content/asap-aes\n",
        "train_data = load_data('/content/asap-aes/training_set_rel3.tsv')\n",
        "valid_data = load_data('/content/asap-aes/valid_set.tsv')\n",
        "test_data = load_data('/content/asap-aes/test_set.tsv')"
      ]
    },
    {
      "cell_type": "code",
      "execution_count": 18,
      "id": "54734319-34db-48e7-9a8a-df86f890a8fd",
      "metadata": {
        "colab": {
          "base_uri": "https://localhost:8080/"
        },
        "id": "54734319-34db-48e7-9a8a-df86f890a8fd",
        "outputId": "f746aedb-40bf-495f-88af-a8e57a97ecc4"
      },
      "outputs": [
        {
          "output_type": "stream",
          "name": "stdout",
          "text": [
            "Train Data Columns: Index(['essay_id', 'essay_set', 'essay', 'rater1_domain1', 'rater2_domain1',\n",
            "       'rater3_domain1', 'domain1_score', 'rater1_domain2', 'rater2_domain2',\n",
            "       'domain2_score', 'rater1_trait1', 'rater1_trait2', 'rater1_trait3',\n",
            "       'rater1_trait4', 'rater1_trait5', 'rater1_trait6', 'rater2_trait1',\n",
            "       'rater2_trait2', 'rater2_trait3', 'rater2_trait4', 'rater2_trait5',\n",
            "       'rater2_trait6', 'rater3_trait1', 'rater3_trait2', 'rater3_trait3',\n",
            "       'rater3_trait4', 'rater3_trait5', 'rater3_trait6'],\n",
            "      dtype='object')\n",
            "Validation Data Columns: Index(['essay_id', 'essay_set', 'essay', 'domain1_predictionid',\n",
            "       'domain2_predictionid'],\n",
            "      dtype='object')\n",
            "Test Data Columns: Index(['essay_id', 'essay_set', 'essay', 'domain1_predictionid',\n",
            "       'domain2_predictionid'],\n",
            "      dtype='object')\n"
          ]
        }
      ],
      "source": [
        "print(\"Train Data Columns:\", train_data.columns)\n",
        "print(\"Validation Data Columns:\", valid_data.columns)\n",
        "print(\"Test Data Columns:\", test_data.columns)"
      ]
    },
    {
      "cell_type": "code",
      "execution_count": 19,
      "id": "cb181d65-ae93-4a5f-8a14-4c8f66fea016",
      "metadata": {
        "id": "cb181d65-ae93-4a5f-8a14-4c8f66fea016"
      },
      "outputs": [],
      "source": [
        "def preprocess_data(data, essay_set=None, is_train=True):\n",
        "    if essay_set is not None:\n",
        "        data = data[data['essay_set'] == essay_set]\n",
        "    essays = data['essay'].tolist()\n",
        "    if is_train:\n",
        "        if 'domain1_score' in data.columns:\n",
        "            scores = data['domain1_score'].astype(float).tolist()\n",
        "        else:\n",
        "            raise KeyError(\"Column 'domain1_score' not found in dataset.\")\n",
        "    else:\n",
        "        scores = [0] * len(essays)\n",
        "    return essays, scores\n"
      ]
    },
    {
      "cell_type": "code",
      "execution_count": 20,
      "id": "18b8f29b-24d5-40a4-9f38-93d12eb95af2",
      "metadata": {
        "id": "18b8f29b-24d5-40a4-9f38-93d12eb95af2"
      },
      "outputs": [],
      "source": [
        "train_essays, train_scores = preprocess_data(train_data, essay_set=1)\n",
        "valid_essays, valid_scores = preprocess_data(valid_data, essay_set=1, is_train=False)\n",
        "test_essays, test_scores = preprocess_data(test_data, essay_set=1, is_train=False)\n"
      ]
    },
    {
      "cell_type": "code",
      "execution_count": 21,
      "id": "02ba6199-0391-419c-b5de-f853b098232c",
      "metadata": {
        "id": "02ba6199-0391-419c-b5de-f853b098232c"
      },
      "outputs": [],
      "source": [
        "tokenizer = RobertaTokenizer.from_pretrained('roberta-base')"
      ]
    },
    {
      "cell_type": "code",
      "execution_count": 22,
      "id": "a6cad27d-f5fc-4213-8431-ee1aa77208da",
      "metadata": {
        "id": "a6cad27d-f5fc-4213-8431-ee1aa77208da"
      },
      "outputs": [],
      "source": [
        "class EssayDataset(Dataset):\n",
        "    def __init__(self, essays, scores, tokenizer, max_length=128):\n",
        "        self.essays = essays\n",
        "        self.scores = scores\n",
        "        self.tokenizer = tokenizer\n",
        "        self.max_length = max_length\n",
        "\n",
        "    def __len__(self):\n",
        "        return len(self.essays)\n",
        "\n",
        "    def __getitem__(self, idx):\n",
        "        essay = str(self.essays[idx])\n",
        "        score = self.scores[idx]\n",
        "\n",
        "        encoding = self.tokenizer(\n",
        "            essay,\n",
        "            max_length=self.max_length,\n",
        "            padding='max_length',\n",
        "            truncation=True,\n",
        "            return_tensors=\"pt\"\n",
        "        )\n",
        "\n",
        "        return {\n",
        "            'input_ids': encoding['input_ids'].squeeze(0),\n",
        "            'attention_mask': encoding['attention_mask'].squeeze(0),\n",
        "            'labels': torch.tensor(score, dtype=torch.float).unsqueeze(0)  # Ensure correct shape\n",
        "        }"
      ]
    },
    {
      "cell_type": "code",
      "execution_count": 23,
      "id": "1a7a93fc-f884-450c-b90b-3687f7337f1b",
      "metadata": {
        "id": "1a7a93fc-f884-450c-b90b-3687f7337f1b"
      },
      "outputs": [],
      "source": [
        "train_dataset = EssayDataset(train_essays, train_scores, tokenizer)\n",
        "valid_dataset = EssayDataset(valid_essays, valid_scores, tokenizer)\n",
        "test_dataset = EssayDataset(test_essays, test_scores, tokenizer)"
      ]
    },
    {
      "cell_type": "code",
      "execution_count": 24,
      "id": "2ba29687-a25a-4e45-96fd-b47141242243",
      "metadata": {
        "colab": {
          "base_uri": "https://localhost:8080/"
        },
        "id": "2ba29687-a25a-4e45-96fd-b47141242243",
        "outputId": "c3178657-4acd-4662-b22a-182813424426"
      },
      "outputs": [
        {
          "output_type": "stream",
          "name": "stderr",
          "text": [
            "Some weights of RobertaForSequenceClassification were not initialized from the model checkpoint at roberta-base and are newly initialized: ['classifier.dense.bias', 'classifier.dense.weight', 'classifier.out_proj.bias', 'classifier.out_proj.weight']\n",
            "You should probably TRAIN this model on a down-stream task to be able to use it for predictions and inference.\n"
          ]
        }
      ],
      "source": [
        "model = RobertaForSequenceClassification.from_pretrained('roberta-base', num_labels=1)"
      ]
    },
    {
      "cell_type": "code",
      "execution_count": 25,
      "id": "ad96085f-3e11-471e-9227-349117f71483",
      "metadata": {
        "id": "ad96085f-3e11-471e-9227-349117f71483"
      },
      "outputs": [],
      "source": [
        "from sklearn.metrics import mean_squared_error\n",
        "\n",
        "def compute_metrics(eval_pred):\n",
        "    predictions, labels = eval_pred\n",
        "    predictions = predictions.squeeze()\n",
        "    labels = labels.squeeze()\n",
        "    rmse = np.sqrt(mean_squared_error(labels, predictions))\n",
        "    accuracy = ((predictions.round() == labels).sum() / len(labels)).item()\n",
        "    return {\"rmse\": rmse, \"accuracy\": accuracy}"
      ]
    },
    {
      "cell_type": "code",
      "execution_count": 26,
      "id": "0fadb237-cff5-4f41-a48d-6484d3e8d250",
      "metadata": {
        "colab": {
          "base_uri": "https://localhost:8080/"
        },
        "id": "0fadb237-cff5-4f41-a48d-6484d3e8d250",
        "outputId": "0f69a946-5871-4877-dfd1-b7d49e3cb6b7"
      },
      "outputs": [
        {
          "output_type": "stream",
          "name": "stderr",
          "text": [
            "Using the `WANDB_DISABLED` environment variable is deprecated and will be removed in v5. Use the --report_to flag to control the integrations used for logging result (for instance --report_to none).\n"
          ]
        }
      ],
      "source": [
        "os.environ[\"WANDB_DISABLED\"] = \"true\"\n",
        "\n",
        "training_args = TrainingArguments(\n",
        "    output_dir=\"./results\",\n",
        "    run_name=\"essay_scoring_experiment\",\n",
        "    eval_strategy=\"steps\",\n",
        "    eval_steps=200,\n",
        "    learning_rate=3e-5,\n",
        "    gradient_accumulation_steps=2,\n",
        "    per_device_train_batch_size=16,  # Halve the training batch size\n",
        "    per_device_eval_batch_size=16,   # Halve the evaluation batch size\n",
        "    num_train_epochs=3,\n",
        "    warmup_steps=300,\n",
        "    weight_decay=0.01,\n",
        "    logging_dir='./logs',\n",
        "    save_strategy=\"steps\",\n",
        "    save_steps=200,\n",
        "    load_best_model_at_end=True,\n",
        "    metric_for_best_model=\"eval_loss\",\n",
        "    logging_steps=100,\n",
        "    disable_tqdm=False,\n",
        "    fp16=False\n",
        ")\n"
      ]
    },
    {
      "cell_type": "code",
      "execution_count": 27,
      "id": "1729b8bf-c66c-49e3-b48e-9b3b4337a09f",
      "metadata": {
        "id": "1729b8bf-c66c-49e3-b48e-9b3b4337a09f"
      },
      "outputs": [],
      "source": [
        "trainer = Trainer(\n",
        "    model=model,\n",
        "    args=training_args,\n",
        "    train_dataset=train_dataset,\n",
        "    eval_dataset=valid_dataset,\n",
        "    processing_class=tokenizer,\n",
        "    compute_metrics=compute_metrics\n",
        ")"
      ]
    },
    {
      "cell_type": "code",
      "execution_count": 28,
      "id": "c3ff2a91-d475-40f8-bf39-3a747ce695a0",
      "metadata": {
        "colab": {
          "base_uri": "https://localhost:8080/",
          "height": 169
        },
        "id": "c3ff2a91-d475-40f8-bf39-3a747ce695a0",
        "outputId": "536de6de-3f01-4885-e878-d704f8c1f24b"
      },
      "outputs": [
        {
          "data": {
            "text/html": [
              "\n",
              "    <div>\n",
              "      \n",
              "      <progress value='152' max='168' style='width:300px; height:20px; vertical-align: middle;'></progress>\n",
              "      [152/168 1:56:42 < 12:26, 0.02 it/s, Epoch 2.70/3]\n",
              "    </div>\n",
              "    <table border=\"1\" class=\"dataframe\">\n",
              "  <thead>\n",
              " <tr style=\"text-align: left;\">\n",
              "      <th>Step</th>\n",
              "      <th>Training Loss</th>\n",
              "      <th>Validation Loss</th>\n",
              "    </tr>\n",
              "  </thead>\n",
              "  <tbody>\n",
              "  </tbody>\n",
              "</table><p>"
            ],
            "text/plain": [
              "<IPython.core.display.HTML object>"
            ]
          },
          "metadata": {},
          "output_type": "display_data"
        },
        {
          "output_type": "display_data",
          "data": {
            "text/plain": [
              "<IPython.core.display.HTML object>"
            ],
            "text/html": [
              "\n",
              "    <div>\n",
              "      \n",
              "      <progress value='168' max='168' style='width:300px; height:20px; vertical-align: middle;'></progress>\n",
              "      [168/168 2:09:48, Epoch 3/3]\n",
              "    </div>\n",
              "    <table border=\"1\" class=\"dataframe\">\n",
              "  <thead>\n",
              " <tr style=\"text-align: left;\">\n",
              "      <th>Step</th>\n",
              "      <th>Training Loss</th>\n",
              "      <th>Validation Loss</th>\n",
              "    </tr>\n",
              "  </thead>\n",
              "  <tbody>\n",
              "  </tbody>\n",
              "</table><p>"
            ]
          },
          "metadata": {}
        },
        {
          "output_type": "execute_result",
          "data": {
            "text/plain": [
              "TrainOutput(global_step=168, training_loss=30.832377115885418, metrics={'train_runtime': 7865.5186, 'train_samples_per_second': 0.68, 'train_steps_per_second': 0.021, 'total_flos': 351842099703552.0, 'train_loss': 30.832377115885418, 'epoch': 3.0})"
            ]
          },
          "metadata": {},
          "execution_count": 28
        }
      ],
      "source": [
        "trainer.train()"
      ]
    },
    {
      "cell_type": "code",
      "execution_count": 29,
      "id": "383a1d88-829c-4ab0-994b-fa6dd56214a8",
      "metadata": {
        "id": "383a1d88-829c-4ab0-994b-fa6dd56214a8",
        "colab": {
          "base_uri": "https://localhost:8080/"
        },
        "outputId": "2e748fc8-6c7c-4bbb-db46-b97f6eaca2bf"
      },
      "outputs": [
        {
          "output_type": "execute_result",
          "data": {
            "text/plain": [
              "('./saved_model/tokenizer_config.json',\n",
              " './saved_model/special_tokens_map.json',\n",
              " './saved_model/vocab.json',\n",
              " './saved_model/merges.txt',\n",
              " './saved_model/added_tokens.json')"
            ]
          },
          "metadata": {},
          "execution_count": 29
        }
      ],
      "source": [
        "model.save_pretrained(\"./saved_model\")\n",
        "tokenizer.save_pretrained(\"./saved_model\")"
      ]
    },
    {
      "cell_type": "code",
      "execution_count": 33,
      "id": "52e01e97-6f12-44e3-8818-c934c9678c13",
      "metadata": {
        "id": "52e01e97-6f12-44e3-8818-c934c9678c13",
        "colab": {
          "base_uri": "https://localhost:8080/",
          "height": 55
        },
        "outputId": "6a8e7172-2696-4467-a5ef-c99becb163d5"
      },
      "outputs": [
        {
          "output_type": "display_data",
          "data": {
            "text/plain": [
              "<IPython.core.display.HTML object>"
            ],
            "text/html": [
              "\n",
              "    <div>\n",
              "      \n",
              "      <progress value='74' max='37' style='width:300px; height:20px; vertical-align: middle;'></progress>\n",
              "      [37/37 14:13]\n",
              "    </div>\n",
              "    "
            ]
          },
          "metadata": {}
        },
        {
          "output_type": "stream",
          "name": "stdout",
          "text": [
            "Validation RMSE: 8.801878929138184\n"
          ]
        }
      ],
      "source": [
        "results = trainer.evaluate()\n",
        "print(\"Validation RMSE:\", results['eval_rmse'])\n"
      ]
    },
    {
      "cell_type": "code",
      "execution_count": 31,
      "id": "4d2ffcd4-930d-45e5-85d9-457fc38fde8d",
      "metadata": {
        "id": "4d2ffcd4-930d-45e5-85d9-457fc38fde8d"
      },
      "outputs": [],
      "source": [
        "test_loader = DataLoader(test_dataset, batch_size=8)\n",
        "predictions = []\n",
        "model.eval()\n",
        "with torch.no_grad():\n",
        "    for batch in test_loader:\n",
        "        inputs = {\n",
        "            'input_ids': batch['input_ids'].to(model.device),\n",
        "            'attention_mask': batch['attention_mask'].to(model.device)\n",
        "        }\n",
        "        outputs = model(**inputs)\n",
        "        predictions.extend(outputs.logits.squeeze().cpu().numpy())"
      ]
    },
    {
      "cell_type": "code",
      "execution_count": 32,
      "id": "2c67c7ea-9b36-4ee6-bc21-0a84e0c256d6",
      "metadata": {
        "id": "2c67c7ea-9b36-4ee6-bc21-0a84e0c256d6",
        "colab": {
          "base_uri": "https://localhost:8080/"
        },
        "outputId": "8a76ed3a-b2e6-42d9-e785-25d08c303770"
      },
      "outputs": [
        {
          "metadata": {
            "tags": null
          },
          "name": "stdout",
          "output_type": "stream",
          "text": [
            "Test RMSE: 8.811080325241443\n"
          ]
        }
      ],
      "source": [
        "predictions = np.array(predictions)\n",
        "print(\"Test RMSE:\", np.sqrt(mean_squared_error(test_scores, predictions)))\n",
        "np.savetxt(\"test_predictions.csv\", predictions, delimiter=\",\")"
      ]
    },
    {
      "cell_type": "code",
      "execution_count": null,
      "id": "aedfbb72-01c7-4a26-b3d2-a67f3c8aafa8",
      "metadata": {
        "id": "aedfbb72-01c7-4a26-b3d2-a67f3c8aafa8"
      },
      "outputs": [],
      "source": []
    }
  ],
  "metadata": {
    "colab": {
      "provenance": [],
      "include_colab_link": true
    },
    "kernelspec": {
      "display_name": "Python [conda env:base] *",
      "language": "python",
      "name": "conda-base-py"
    },
    "language_info": {
      "codemirror_mode": {
        "name": "ipython",
        "version": 3
      },
      "file_extension": ".py",
      "mimetype": "text/x-python",
      "name": "python",
      "nbconvert_exporter": "python",
      "pygments_lexer": "ipython3",
      "version": "3.12.3"
    }
  },
  "nbformat": 4,
  "nbformat_minor": 5
}